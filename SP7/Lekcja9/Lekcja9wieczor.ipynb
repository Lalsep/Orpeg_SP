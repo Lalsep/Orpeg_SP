{
 "cells": [
  {
   "cell_type": "markdown",
   "metadata": {},
   "source": [
    "# Lekcja 9 #\n",
    "## Programowanie w Python 3 ##\n"
   ]
  },
  {
   "cell_type": "markdown",
   "metadata": {},
   "source": [
    "![Python3](../python3.jpg)"
   ]
  },
  {
   "cell_type": "markdown",
   "metadata": {},
   "source": [
    "**Program**\n",
    "* listy\n",
    "* długość listy len\n",
    "* zakres range\n",
    "* pętla for\n",
    "* pętla while\n",
    "* przerwanie pętli break"
   ]
  },
  {
   "cell_type": "code",
   "execution_count": 3,
   "metadata": {},
   "outputs": [
    {
     "name": "stdout",
     "output_type": "stream",
     "text": [
      "[3, 8, 'janek', 'rok 2020', 19, 4]\n"
     ]
    }
   ],
   "source": [
    "# lista\n",
    "lst = [3, 8, 'janek', 'rok 2020', 19, 4]\n",
    "print(lst)\n"
   ]
  },
  {
   "cell_type": "code",
   "execution_count": 4,
   "metadata": {},
   "outputs": [
    {
     "name": "stdout",
     "output_type": "stream",
     "text": [
      "6\n"
     ]
    }
   ],
   "source": [
    "print(len(lst))"
   ]
  },
  {
   "cell_type": "code",
   "execution_count": 5,
   "metadata": {},
   "outputs": [
    {
     "name": "stdout",
     "output_type": "stream",
     "text": [
      "[3, 8, 'janek', 'rok 2020', 19, 4, 19]\n"
     ]
    }
   ],
   "source": [
    "# operacje na listach\n",
    "# append- dodawanie elementu\n",
    "\n",
    "lst.append(19)\n",
    "print(lst)"
   ]
  },
  {
   "cell_type": "code",
   "execution_count": 6,
   "metadata": {},
   "outputs": [
    {
     "name": "stdout",
     "output_type": "stream",
     "text": [
      "[3, 8, 'janek', 'rok 2020', 19, 4, 19, 'zosia']\n"
     ]
    }
   ],
   "source": [
    "lst.append('zosia')\n",
    "print(lst)"
   ]
  },
  {
   "cell_type": "code",
   "execution_count": 7,
   "metadata": {},
   "outputs": [
    {
     "name": "stdout",
     "output_type": "stream",
     "text": [
      "8\n"
     ]
    }
   ],
   "source": [
    "print(len(lst))"
   ]
  },
  {
   "cell_type": "code",
   "execution_count": 8,
   "metadata": {},
   "outputs": [
    {
     "name": "stdout",
     "output_type": "stream",
     "text": [
      "[3, 8, 'janek', 'rok 2020', 19, 4, 19]\n"
     ]
    }
   ],
   "source": [
    "# pop usuwanie ostatnio wprowadzonego elementu\n",
    "lst.pop()\n",
    "print(lst)"
   ]
  },
  {
   "cell_type": "code",
   "execution_count": 9,
   "metadata": {},
   "outputs": [
    {
     "name": "stdout",
     "output_type": "stream",
     "text": [
      "[3, 8, 'janek', 'rok 2020', 19, 4]\n"
     ]
    }
   ],
   "source": [
    "lst.pop()\n",
    "print(lst)"
   ]
  },
  {
   "cell_type": "code",
   "execution_count": 10,
   "metadata": {},
   "outputs": [
    {
     "name": "stdout",
     "output_type": "stream",
     "text": [
      "nr w pętli  5\n",
      "nr w pętli  6\n",
      "nr w pętli  7\n",
      "nr w pętli  8\n",
      "nr w pętli  9\n",
      "nr w pętli  10\n"
     ]
    }
   ],
   "source": [
    "# pętla for i zakres range(dolny, gorny)\n",
    "for j in range(5, 11):\n",
    "    print(\"nr w pętli \", j)"
   ]
  },
  {
   "cell_type": "code",
   "execution_count": 11,
   "metadata": {},
   "outputs": [
    {
     "name": "stdout",
     "output_type": "stream",
     "text": [
      "[3, 8, 'janek', 'rok 2020', 19, 4]\n"
     ]
    }
   ],
   "source": [
    "print(lst)"
   ]
  },
  {
   "cell_type": "code",
   "execution_count": 12,
   "metadata": {},
   "outputs": [
    {
     "name": "stdout",
     "output_type": "stream",
     "text": [
      "3\n",
      "8\n",
      "janek\n",
      "rok 2020\n",
      "19\n",
      "4\n"
     ]
    }
   ],
   "source": [
    "for e in lst:\n",
    "    print(e)"
   ]
  },
  {
   "cell_type": "code",
   "execution_count": 13,
   "metadata": {},
   "outputs": [
    {
     "name": "stdout",
     "output_type": "stream",
     "text": [
      "janek\n"
     ]
    }
   ],
   "source": [
    "print(lst[2])"
   ]
  },
  {
   "cell_type": "code",
   "execution_count": 14,
   "metadata": {},
   "outputs": [
    {
     "name": "stdout",
     "output_type": "stream",
     "text": [
      "rok 2020\n"
     ]
    }
   ],
   "source": [
    "print(lst[3])"
   ]
  },
  {
   "cell_type": "code",
   "execution_count": 15,
   "metadata": {},
   "outputs": [
    {
     "name": "stdout",
     "output_type": "stream",
     "text": [
      "nr w pętli while   1\n",
      "nr w pętli while   2\n",
      "nr w pętli while   3\n",
      "nr w pętli while   4\n",
      "nr w pętli while   5\n",
      "nr w pętli while   6\n",
      "nr w pętli while   7\n",
      "nr w pętli while   8\n",
      "nr w pętli while   9\n",
      "nr w pętli while   10\n"
     ]
    }
   ],
   "source": [
    "# pętla while\n",
    "x = 1\n",
    "while x <= 10:\n",
    "    print(\"nr w pętli while  \", x)\n",
    "    x+=1"
   ]
  },
  {
   "cell_type": "code",
   "execution_count": 16,
   "metadata": {},
   "outputs": [
    {
     "name": "stdout",
     "output_type": "stream",
     "text": [
      "-3, 0, 2, 8, -11, 4, -9, 10, -7, 19, "
     ]
    }
   ],
   "source": [
    "# zadanie 1. z podanej listy oblicz sume liczb ujemnych\n",
    "lista = [-3, 0, 2, 8, -11, 4 ,-9 , 10, -7, 19]\n",
    "for e in lista:\n",
    "    print(e, end=\", \")"
   ]
  },
  {
   "cell_type": "code",
   "execution_count": 18,
   "metadata": {},
   "outputs": [
    {
     "name": "stdout",
     "output_type": "stream",
     "text": [
      "10\n"
     ]
    }
   ],
   "source": [
    "print(len(lista))"
   ]
  },
  {
   "cell_type": "code",
   "execution_count": 23,
   "metadata": {},
   "outputs": [
    {
     "name": "stdout",
     "output_type": "stream",
     "text": [
      "suma elementów ujemnych  suma =  -30\n"
     ]
    }
   ],
   "source": [
    "suma = 0\n",
    "for e in lista:\n",
    "    if (e < 0):\n",
    "#         print(e)\n",
    "        suma+=e\n",
    "print(\"suma elementów ujemnych  suma = \", suma)"
   ]
  },
  {
   "cell_type": "code",
   "execution_count": 25,
   "metadata": {},
   "outputs": [
    {
     "name": "stdout",
     "output_type": "stream",
     "text": [
      "2\n",
      "8\n",
      "4\n",
      "10\n",
      "19\n",
      "suma elementów ujemnych  suma =  43\n"
     ]
    }
   ],
   "source": [
    "# suma elementów dodatnich\n",
    "suma = 0\n",
    "for e in lista:\n",
    "    if (e > 0):\n",
    "        print(e)\n",
    "        suma+=e\n",
    "print(\"suma elementów ujemnych  suma = \", suma)"
   ]
  },
  {
   "cell_type": "code",
   "execution_count": 30,
   "metadata": {},
   "outputs": [
    {
     "name": "stdout",
     "output_type": "stream",
     "text": [
      "0, 1, 2, 3, 4, 5, 6, 7, 8, 9, 10, 11, "
     ]
    }
   ],
   "source": [
    "for i in range(51):\n",
    "    print(i, end=\", \")\n",
    "    if (i == 11):\n",
    "        break"
   ]
  },
  {
   "cell_type": "code",
   "execution_count": 33,
   "metadata": {},
   "outputs": [
    {
     "name": "stdout",
     "output_type": "stream",
     "text": [
      "3\n",
      "6\n",
      "bum, 9\n",
      "12\n",
      "bum, 15\n",
      "18\n",
      "bum, 21\n",
      "24\n",
      "bum, 27\n",
      "30\n",
      "bum, bingo\n",
      "33\n",
      "36\n",
      "bum, 39\n",
      "42\n",
      "bum, 45\n",
      "48\n",
      "bum, 51\n",
      "54\n",
      "bum, 57\n",
      "60\n",
      "bum, bingo\n",
      "63\n",
      "66\n",
      "bum, 69\n",
      "72\n",
      "bum, 75\n",
      "78\n",
      "bum, 81\n",
      "84\n",
      "bum, 87\n",
      "90\n",
      "bum, bingo\n",
      "93\n",
      "96\n",
      "bum, 99\n"
     ]
    }
   ],
   "source": [
    "# wypisz wszytkie liczby z zakresu 1-100 podzielne przez 3. Jeżeli liczba jest parzysta to \n",
    "# wypisz komunikat \"bum\", gdy podzielne przez 10 \"bingo\"\n",
    "\n",
    "for i in range(1, 101):\n",
    "    if (i % 3 == 0):\n",
    "        print(i)\n",
    "        if (i % 2 == 0):\n",
    "            print(\"bum\", end=\", \")\n",
    "        if (i%10 == 0):\n",
    "            print(\"bingo\")"
   ]
  },
  {
   "cell_type": "code",
   "execution_count": 35,
   "metadata": {},
   "outputs": [
    {
     "name": "stdout",
     "output_type": "stream",
     "text": [
      "suma =  1120.1111111111106\n"
     ]
    }
   ],
   "source": [
    "# zadanie 2. Ciąg o wzorze a(n) = n/9 + 9/n w zakresie od 1 100. Oblicz sumę.\n",
    "def ciag(n):\n",
    "    return n/9 + 9/n\n",
    "suma = 0\n",
    "n = 100\n",
    "for i in range(1,101):\n",
    "    suma+=ciag(n)\n",
    "print(\"suma = \", suma)"
   ]
  },
  {
   "cell_type": "code",
   "execution_count": null,
   "metadata": {},
   "outputs": [],
   "source": []
  }
 ],
 "metadata": {
  "kernelspec": {
   "display_name": "Python 3",
   "language": "python",
   "name": "python3"
  },
  "language_info": {
   "codemirror_mode": {
    "name": "ipython",
    "version": 3
   },
   "file_extension": ".py",
   "mimetype": "text/x-python",
   "name": "python",
   "nbconvert_exporter": "python",
   "pygments_lexer": "ipython3",
   "version": "3.7.1"
  }
 },
 "nbformat": 4,
 "nbformat_minor": 2
}
