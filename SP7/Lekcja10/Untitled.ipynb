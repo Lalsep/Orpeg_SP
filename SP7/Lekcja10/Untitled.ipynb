{
 "cells": [
  {
   "cell_type": "code",
   "execution_count": 1,
   "id": "compound-spine",
   "metadata": {},
   "outputs": [],
   "source": [
    "lista = ['pies', 'kot' , 'żaba']"
   ]
  },
  {
   "cell_type": "code",
   "execution_count": 2,
   "id": "altered-quebec",
   "metadata": {},
   "outputs": [
    {
     "data": {
      "text/plain": [
       "['pies', 'kot', 'żaba']"
      ]
     },
     "execution_count": 2,
     "metadata": {},
     "output_type": "execute_result"
    }
   ],
   "source": [
    "lista"
   ]
  },
  {
   "cell_type": "code",
   "execution_count": 6,
   "id": "pregnant-surgery",
   "metadata": {},
   "outputs": [
    {
     "name": "stdout",
     "output_type": "stream",
     "text": [
      "pies, kot, żaba, bocian, "
     ]
    }
   ],
   "source": [
    "for e in lista:\n",
    "    print(e, end=', ')"
   ]
  },
  {
   "cell_type": "code",
   "execution_count": 5,
   "id": "inappropriate-alignment",
   "metadata": {},
   "outputs": [],
   "source": [
    "# dodawanie elementu do listy\n",
    "# append\n",
    "\n",
    "lista.append('bocian')"
   ]
  },
  {
   "cell_type": "code",
   "execution_count": 7,
   "id": "systematic-audio",
   "metadata": {},
   "outputs": [
    {
     "data": {
      "text/plain": [
       "'bocian'"
      ]
     },
     "execution_count": 7,
     "metadata": {},
     "output_type": "execute_result"
    }
   ],
   "source": [
    "# usuwanie ostaniego elementu listy\n",
    "# pop\n",
    "\n",
    "lista.pop()"
   ]
  },
  {
   "cell_type": "code",
   "execution_count": 8,
   "id": "coordinate-north",
   "metadata": {},
   "outputs": [
    {
     "data": {
      "text/plain": [
       "['pies', 'kot', 'żaba']"
      ]
     },
     "execution_count": 8,
     "metadata": {},
     "output_type": "execute_result"
    }
   ],
   "source": [
    "lista"
   ]
  },
  {
   "cell_type": "code",
   "execution_count": 9,
   "id": "dirty-oregon",
   "metadata": {},
   "outputs": [
    {
     "name": "stdout",
     "output_type": "stream",
     "text": [
      "pies\n",
      "kot\n",
      "żaba\n"
     ]
    }
   ],
   "source": [
    "for x in lista:\n",
    "    print(x)"
   ]
  },
  {
   "cell_type": "code",
   "execution_count": 10,
   "id": "center-helmet",
   "metadata": {},
   "outputs": [],
   "source": [
    "lista.append(3)"
   ]
  },
  {
   "cell_type": "code",
   "execution_count": 11,
   "id": "detected-rings",
   "metadata": {},
   "outputs": [
    {
     "name": "stdout",
     "output_type": "stream",
     "text": [
      "pies\n",
      "kot\n",
      "żaba\n",
      "3\n"
     ]
    }
   ],
   "source": [
    "for e in lista:\n",
    "    print(e)"
   ]
  },
  {
   "cell_type": "code",
   "execution_count": 12,
   "id": "incomplete-attendance",
   "metadata": {},
   "outputs": [],
   "source": [
    "lista.append('bociani')"
   ]
  },
  {
   "cell_type": "code",
   "execution_count": 13,
   "id": "vanilla-valentine",
   "metadata": {},
   "outputs": [
    {
     "data": {
      "text/plain": [
       "['pies', 'kot', 'żaba', 3, 'bociani']"
      ]
     },
     "execution_count": 13,
     "metadata": {},
     "output_type": "execute_result"
    }
   ],
   "source": [
    "lista"
   ]
  },
  {
   "cell_type": "code",
   "execution_count": 15,
   "id": "excited-diploma",
   "metadata": {},
   "outputs": [
    {
     "data": {
      "text/plain": [
       "['pies', 'kot', 'żaba', 'bocian']"
      ]
     },
     "execution_count": 15,
     "metadata": {},
     "output_type": "execute_result"
    }
   ],
   "source": [
    "lista.pop()\n",
    "lista.append('bocian')\n",
    "lista"
   ]
  },
  {
   "cell_type": "code",
   "execution_count": 16,
   "id": "considered-program",
   "metadata": {},
   "outputs": [],
   "source": [
    "lista.append(3)"
   ]
  },
  {
   "cell_type": "code",
   "execution_count": 17,
   "id": "important-generator",
   "metadata": {},
   "outputs": [],
   "source": [
    "l1 = ['pies', 'kot']\n",
    "l2 = [3, 'kot']\n",
    "lista.append(l1)"
   ]
  },
  {
   "cell_type": "code",
   "execution_count": 18,
   "id": "clinical-comfort",
   "metadata": {},
   "outputs": [
    {
     "data": {
      "text/plain": [
       "['pies', 'kot', 'żaba', 'bocian', 3, ['pies', 'kot']]"
      ]
     },
     "execution_count": 18,
     "metadata": {},
     "output_type": "execute_result"
    }
   ],
   "source": [
    "lista"
   ]
  },
  {
   "cell_type": "code",
   "execution_count": 19,
   "id": "smoking-album",
   "metadata": {},
   "outputs": [
    {
     "name": "stdout",
     "output_type": "stream",
     "text": [
      "pies\n",
      "kot\n",
      "żaba\n",
      "bocian\n",
      "3\n",
      "['pies', 'kot']\n"
     ]
    }
   ],
   "source": [
    "for e in lista:\n",
    "    print(e)"
   ]
  },
  {
   "cell_type": "code",
   "execution_count": 20,
   "id": "operational-pharmaceutical",
   "metadata": {},
   "outputs": [],
   "source": [
    "lista.append(l2)"
   ]
  },
  {
   "cell_type": "code",
   "execution_count": 21,
   "id": "frozen-pierce",
   "metadata": {},
   "outputs": [
    {
     "name": "stdout",
     "output_type": "stream",
     "text": [
      "pies\n",
      "kot\n",
      "żaba\n",
      "bocian\n",
      "3\n",
      "['pies', 'kot']\n",
      "[3, 'kot']\n"
     ]
    }
   ],
   "source": [
    "for e in lista:\n",
    "    print(e)"
   ]
  },
  {
   "cell_type": "code",
   "execution_count": 22,
   "id": "aboriginal-latvia",
   "metadata": {},
   "outputs": [
    {
     "data": {
      "text/plain": [
       "[2, 3, 4, 5, 1, 4, 5, 9]"
      ]
     },
     "execution_count": 22,
     "metadata": {},
     "output_type": "execute_result"
    }
   ],
   "source": [
    "lst=[2,3,4,5]\n",
    "lt = [1,4,5,9]\n",
    "nowa = lst+lt\n",
    "nowa"
   ]
  },
  {
   "cell_type": "code",
   "execution_count": 23,
   "id": "right-college",
   "metadata": {},
   "outputs": [
    {
     "data": {
      "text/plain": [
       "9"
      ]
     },
     "execution_count": 23,
     "metadata": {},
     "output_type": "execute_result"
    }
   ],
   "source": [
    "nowa.pop()"
   ]
  },
  {
   "cell_type": "code",
   "execution_count": 24,
   "id": "fantastic-christianity",
   "metadata": {},
   "outputs": [
    {
     "data": {
      "text/plain": [
       "[2, 3, 4, 5, 1, 4, 5]"
      ]
     },
     "execution_count": 24,
     "metadata": {},
     "output_type": "execute_result"
    }
   ],
   "source": [
    "nowa"
   ]
  },
  {
   "cell_type": "code",
   "execution_count": 25,
   "id": "outdoor-profit",
   "metadata": {},
   "outputs": [],
   "source": [
    "nowa.append(9)"
   ]
  },
  {
   "cell_type": "code",
   "execution_count": 26,
   "id": "level-customs",
   "metadata": {},
   "outputs": [
    {
     "data": {
      "text/plain": [
       "[2, 3, 4, 5, 1, 4, 5, 9]"
      ]
     },
     "execution_count": 26,
     "metadata": {},
     "output_type": "execute_result"
    }
   ],
   "source": [
    "nowa\n"
   ]
  },
  {
   "cell_type": "code",
   "execution_count": 29,
   "id": "casual-despite",
   "metadata": {},
   "outputs": [
    {
     "data": {
      "text/plain": [
       "[1, 4, 5, 9]"
      ]
     },
     "execution_count": 29,
     "metadata": {},
     "output_type": "execute_result"
    }
   ],
   "source": [
    "lt"
   ]
  },
  {
   "cell_type": "code",
   "execution_count": 30,
   "id": "suitable-pride",
   "metadata": {},
   "outputs": [
    {
     "data": {
      "text/plain": [
       "[2, 3, 4, 5]"
      ]
     },
     "execution_count": 30,
     "metadata": {},
     "output_type": "execute_result"
    }
   ],
   "source": [
    "lst"
   ]
  },
  {
   "cell_type": "code",
   "execution_count": 31,
   "id": "positive-airline",
   "metadata": {},
   "outputs": [],
   "source": [
    "nowa=[]"
   ]
  },
  {
   "cell_type": "code",
   "execution_count": 32,
   "id": "honest-practitioner",
   "metadata": {},
   "outputs": [
    {
     "data": {
      "text/plain": [
       "[]"
      ]
     },
     "execution_count": 32,
     "metadata": {},
     "output_type": "execute_result"
    }
   ],
   "source": [
    "nowa"
   ]
  },
  {
   "cell_type": "code",
   "execution_count": 33,
   "id": "uniform-physiology",
   "metadata": {},
   "outputs": [
    {
     "name": "stdout",
     "output_type": "stream",
     "text": [
      "4\n"
     ]
    }
   ],
   "source": [
    "print(len(lst))"
   ]
  },
  {
   "cell_type": "code",
   "execution_count": 34,
   "id": "engaging-bookmark",
   "metadata": {},
   "outputs": [
    {
     "data": {
      "text/plain": [
       "[0, 1, 2, 3, 4]"
      ]
     },
     "execution_count": 34,
     "metadata": {},
     "output_type": "execute_result"
    }
   ],
   "source": [
    "# nowa funkcja range\n",
    "new = list(range(5))\n",
    "new"
   ]
  },
  {
   "cell_type": "code",
   "execution_count": 35,
   "id": "looking-individual",
   "metadata": {},
   "outputs": [],
   "source": [
    "# pełna instrukcja range(pocz, kon, skok)\n",
    "new=[]"
   ]
  },
  {
   "cell_type": "code",
   "execution_count": 36,
   "id": "norwegian-professor",
   "metadata": {},
   "outputs": [
    {
     "data": {
      "text/plain": [
       "[]"
      ]
     },
     "execution_count": 36,
     "metadata": {},
     "output_type": "execute_result"
    }
   ],
   "source": [
    "new"
   ]
  },
  {
   "cell_type": "code",
   "execution_count": 37,
   "id": "freelance-depth",
   "metadata": {},
   "outputs": [
    {
     "data": {
      "text/plain": [
       "[3, 5, 7, 9]"
      ]
     },
     "execution_count": 37,
     "metadata": {},
     "output_type": "execute_result"
    }
   ],
   "source": [
    "new = list(range(3,10,2))\n",
    "new"
   ]
  },
  {
   "cell_type": "code",
   "execution_count": 38,
   "id": "periodic-paintball",
   "metadata": {},
   "outputs": [
    {
     "data": {
      "text/plain": [
       "[]"
      ]
     },
     "execution_count": 38,
     "metadata": {},
     "output_type": "execute_result"
    }
   ],
   "source": [
    "new=[]\n",
    "new"
   ]
  },
  {
   "cell_type": "code",
   "execution_count": 43,
   "id": "canadian-spain",
   "metadata": {},
   "outputs": [
    {
     "data": {
      "text/plain": [
       "[3, 7, 9, 14]"
      ]
     },
     "execution_count": 43,
     "metadata": {},
     "output_type": "execute_result"
    }
   ],
   "source": [
    "# pętla for\n",
    "for e in range(len(lst)):\n",
    "    new.append(lst[e]+lt[e])\n",
    "new"
   ]
  },
  {
   "cell_type": "code",
   "execution_count": 41,
   "id": "continued-rogers",
   "metadata": {},
   "outputs": [
    {
     "name": "stdout",
     "output_type": "stream",
     "text": [
      "4\n"
     ]
    }
   ],
   "source": [
    "print(lst[2])"
   ]
  },
  {
   "cell_type": "code",
   "execution_count": 42,
   "id": "metallic-consensus",
   "metadata": {},
   "outputs": [
    {
     "name": "stdout",
     "output_type": "stream",
     "text": [
      "9\n"
     ]
    }
   ],
   "source": [
    "print(lt[3])"
   ]
  },
  {
   "cell_type": "code",
   "execution_count": 48,
   "id": "innovative-mongolia",
   "metadata": {},
   "outputs": [
    {
     "name": "stdout",
     "output_type": "stream",
     "text": [
      "0 1 2 3 4 5 6 7 8 9 10 11 12 13 14 15 16 17 18 19 20 21 22 23 24 25 26 27 28 29 "
     ]
    }
   ],
   "source": [
    "ccc = list(range(30))\n",
    "for e in ccc:\n",
    "    print(e, end=' ')"
   ]
  },
  {
   "cell_type": "code",
   "execution_count": null,
   "id": "distant-concern",
   "metadata": {},
   "outputs": [],
   "source": []
  }
 ],
 "metadata": {
  "kernelspec": {
   "display_name": "Python 3",
   "language": "python",
   "name": "python3"
  },
  "language_info": {
   "codemirror_mode": {
    "name": "ipython",
    "version": 3
   },
   "file_extension": ".py",
   "mimetype": "text/x-python",
   "name": "python",
   "nbconvert_exporter": "python",
   "pygments_lexer": "ipython3",
   "version": "3.7.9"
  }
 },
 "nbformat": 4,
 "nbformat_minor": 5
}
